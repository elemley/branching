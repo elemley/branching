{
 "cells": [
  {
   "cell_type": "markdown",
   "metadata": {},
   "source": [
    "# Branching Statements - Chapter 4"
   ]
  },
  {
   "cell_type": "markdown",
   "metadata": {},
   "source": [
    "## 4.1 if-else Statements\n",
    "An *if* statetment by itself causes certain code to run if certain conditons are met. Pretty much like other languages.\n",
    "\n",
    "- syntax is *if <condition(s)> :*\n",
    "- The code to be executed has to be indented from the *if* statement\n",
    "- The first line after the *if* statement that is not indented signals the end of the *if* statement."
   ]
  },
  {
   "cell_type": "code",
   "execution_count": 1,
   "metadata": {},
   "outputs": [
    {
     "name": "stdout",
     "output_type": "stream",
     "text": [
      "a is equal to 1.\n",
      "\n",
      "b is greater than 1.\n",
      "\n",
      "a is less than 2 and b is greater than or equal to 2.\n",
      "\n",
      "a is less than 2 or b is equal to 3.\n",
      "\n",
      "a is equal to 1 and b is less than or equal to 2 and c is greater than 2.\n",
      "\n",
      "a is equal to 1 or b is less than 2 and c is greater than 2.\n",
      "\n"
     ]
    }
   ],
   "source": [
    "a = 1\n",
    "b = 2\n",
    "c = 3\n",
    "\n",
    "if a == 1:\n",
    "    print(f\"a is equal to 1.\\n\")\n",
    "if b > 1:\n",
    "    print(f\"b is greater than 1.\\n\")\n",
    "if c < 3:\n",
    "    print(f\"c is less than 3.\\n\")        #Nothing happens here...\n",
    "\n",
    "if a < 2 and b >= 2:\n",
    "    print(f\"a is less than 2 and b is greater than or equal to 2.\\n\")\n",
    "\n",
    "if a < 2 or b == 3:\n",
    "    print(f\"a is less than 2 or b is equal to 3.\\n\")\n",
    "    \n",
    "    \n",
    "if a == 1 and b <= 2 and c > 2:\n",
    "    print(f\"a is equal to 1 and b is less than or equal to 2 and c is greater than 2.\\n\")\n",
    "\n",
    "if a == 1 or b < 2 and c > 2:\n",
    "    print(f\"a is equal to 1 or b is less than 2 and c is greater than 2.\\n\")"
   ]
  },
  {
   "cell_type": "markdown",
   "metadata": {},
   "source": [
    "### Now Using else\n",
    "\n",
    "The *else* keyword can be used to specify alternative code to run if a condition is *not* met."
   ]
  },
  {
   "cell_type": "code",
   "execution_count": 2,
   "metadata": {},
   "outputs": [
    {
     "name": "stdout",
     "output_type": "stream",
     "text": [
      "a is not = 1.2.\n",
      "\n"
     ]
    }
   ],
   "source": [
    "a = 1.1\n",
    "b = 3.2\n",
    "c = 4.5\n",
    "if a == 1.2:\n",
    "    print(f\"a = 1.2.\\n\")\n",
    "else:\n",
    "    print(f\"a is not = 1.2.\\n\")\n"
   ]
  },
  {
   "cell_type": "markdown",
   "metadata": {},
   "source": [
    "### Nested *if* statements\n",
    "\n",
    "It comes up pretty often that if and if-else statements need to be nested."
   ]
  },
  {
   "cell_type": "code",
   "execution_count": 3,
   "metadata": {},
   "outputs": [
    {
     "name": "stdout",
     "output_type": "stream",
     "text": [
      "a < 1\n"
     ]
    }
   ],
   "source": [
    "a = 0.9\n",
    "b = 0.9\n",
    "c = 1.4\n",
    "\n",
    "if a > 1:\n",
    "    if b > 1:\n",
    "        tmp = \"a > 1 and b > 1\"\n",
    "    else:\n",
    "        tmp = \"a > 1 but b < 1\"\n",
    "else:\n",
    "    tmp = \"a < 1\"\n",
    "print(tmp)"
   ]
  },
  {
   "cell_type": "markdown",
   "metadata": {},
   "source": [
    "### Extended *else-if* statements\n",
    "\n",
    "Sometimes you need to not only take action if something is either true or false, but also have additional conditions. Here is the *if-elif-else* syntax for this situation."
   ]
  },
  {
   "cell_type": "code",
   "execution_count": 4,
   "metadata": {},
   "outputs": [
    {
     "name": "stdout",
     "output_type": "stream",
     "text": [
      "equal to or greater than 70 but less than 80\n"
     ]
    }
   ],
   "source": [
    "temp = 75         #deg. F\n",
    "\n",
    "if temp >= 70 and temp < 80:\n",
    "    out = \"equal to or greater than 70 but less than 80\"\n",
    "elif temp >= 80 and temp <90:\n",
    "    out = \"equal to or greater than 80 but less than 90\"\n",
    "elif temp >= 90 and temp > 100:\n",
    "    out = \"equal to or greater than 90 but less than 100\"\n",
    "else:\n",
    "    out = \"less than 70 or greater or equal to 100\"\n",
    "\n",
    "print(out)"
   ]
  },
  {
   "cell_type": "markdown",
   "metadata": {},
   "source": [
    "## 4.2 Ternary Operators\n",
    "\n",
    "This is really just a way in one line to do an if-else statement...\n",
    "\n",
    "*expr_if_true if condition else expr_if_false*"
   ]
  },
  {
   "cell_type": "code",
   "execution_count": 5,
   "metadata": {},
   "outputs": [
    {
     "name": "stdout",
     "output_type": "stream",
     "text": [
      "in range\n"
     ]
    }
   ],
   "source": [
    "temp = 99\n",
    "out = \"in range\" if temp>=70 and temp<100 else \"out of range\"\n",
    "print(out)"
   ]
  }
 ],
 "metadata": {
  "kernelspec": {
   "display_name": "Python 3",
   "language": "python",
   "name": "python3"
  },
  "language_info": {
   "codemirror_mode": {
    "name": "ipython",
    "version": 3
   },
   "file_extension": ".py",
   "mimetype": "text/x-python",
   "name": "python",
   "nbconvert_exporter": "python",
   "pygments_lexer": "ipython3",
   "version": "3.7.4"
  }
 },
 "nbformat": 4,
 "nbformat_minor": 4
}
